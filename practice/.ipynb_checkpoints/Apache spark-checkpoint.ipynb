{
 "cells": [
  {
   "cell_type": "markdown",
   "id": "3ab26534",
   "metadata": {},
   "source": [
    "# Apache Spark Practice "
   ]
  },
  {
   "cell_type": "markdown",
   "id": "35699467",
   "metadata": {},
   "source": [
    "### Starting the spark Session"
   ]
  },
  {
   "cell_type": "code",
   "execution_count": 1,
   "id": "153dc4f2",
   "metadata": {},
   "outputs": [
    {
     "name": "stderr",
     "output_type": "stream",
     "text": [
      "Setting default log level to \"WARN\".\n",
      "To adjust logging level use sc.setLogLevel(newLevel). For SparkR, use setLogLevel(newLevel).\n"
     ]
    },
    {
     "name": "stdout",
     "output_type": "stream",
     "text": [
      "23/03/30 06:49:40 WARN NativeCodeLoader: Unable to load native-hadoop library for your platform... using builtin-java classes where applicable\n",
      "23/03/30 06:49:41 WARN Utils: Service 'SparkUI' could not bind on port 4040. Attempting port 4041.\n"
     ]
    }
   ],
   "source": [
    "from pyspark.sql import SparkSession\n",
    "spark = SparkSession.builder \\\n",
    "    .master('local[*]') \\\n",
    "    .appName('Spark Prac')\\\n",
    "    .getOrCreate()"
   ]
  },
  {
   "cell_type": "markdown",
   "id": "408ba823",
   "metadata": {},
   "source": [
    "### Loading the dataset"
   ]
  },
  {
   "cell_type": "code",
   "execution_count": 2,
   "id": "20ec7b4d",
   "metadata": {},
   "outputs": [
    {
     "name": "stderr",
     "output_type": "stream",
     "text": [
      "                                                                                \r"
     ]
    },
    {
     "name": "stdout",
     "output_type": "stream",
     "text": [
      "23/03/30 06:49:59 WARN package: Truncated the string representation of a plan since it was too large. This behavior can be adjusted by setting 'spark.sql.debug.maxToStringFields'.\n",
      "+--------+-------------+---------+----------+-----------+---------+-----------+-------------+------------+----------------+------------------+------------------+---------------------+-------------+------------------+-------------------+--------------------------+--------+-------------+-----------------+-------+-------------+----------+-------------+-----------------+-----------------+---------------------+------------------+-----------------------+------------------------+--------------------------+-----------------------+--------------------+--------------+--------------+--------------+---------------------+------------+-------------+-------+\n",
      "|      ID|Client_Income|Car_Owned|Bike_Owned|Active_Loan|House_Own|Child_Count|Credit_Amount|Loan_Annuity|Accompany_Client|Client_Income_Type|  Client_Education|Client_Marital_Status|Client_Gender|Loan_Contract_Type|Client_Housing_Type|Population_Region_Relative|Age_Days|Employed_Days|Registration_Days|ID_Days|Own_House_Age|Mobile_Tag|Homephone_Tag|Workphone_Working|Client_Occupation|Client_Family_Members|Cleint_City_Rating|Application_Process_Day|Application_Process_Hour|Client_Permanent_Match_Tag|Client_Contact_Work_Tag|   Type_Organization|Score_Source_1|Score_Source_2|Score_Source_3|Social_Circle_Default|Phone_Change|Credit_Bureau|Default|\n",
      "+--------+-------------+---------+----------+-----------+---------+-----------+-------------+------------+----------------+------------------+------------------+---------------------+-------------+------------------+-------------------+--------------------------+--------+-------------+-----------------+-------+-------------+----------+-------------+-----------------+-----------------+---------------------+------------------+-----------------------+------------------------+--------------------------+-----------------------+--------------------+--------------+--------------+--------------+---------------------+------------+-------------+-------+\n",
      "|12142509|         6750|        0|         0|          1|        0|          0|     61190.55|     3416.85|           Alone|        Commercial|         Secondary|                    M|         Male|                CL|               Home|                  0.028663|   13957|         1062|             6123|    383|         null|         1|            1|                0|            Sales|                    2|                 2|                      6|                      17|                       Yes|                    Yes|       Self-employed|    0.56806615|    0.47878667|          null|               0.0186|          63|         null|      0|\n",
      "|12138936|        20250|        1|         0|          1|     null|          0|        15282|     1826.55|           Alone|           Service|        Graduation|                    M|         Male|                CL|               Home|                  0.008575|   14162|         4129|             7833|     21|            0|         1|            0|                1|             null|                    2|                 2|                      3|                      10|                       Yes|                    Yes|          Government|   0.563360099|   0.215068341|          null|                 null|        null|         null|      0|\n",
      "|12181264|        18000|        0|         0|          1|        0|          1|     59527.35|      2788.2|           Alone|           Service|Graduation dropout|                    W|         Male|                CL|             Family|                    0.0228|   16790|         5102|             null|    331|         null|         1|            0|                0|    Realty agents|                    2|                 2|                      4|                    null|                       Yes|                    Yes|       Self-employed|          null|   0.552794972|   0.329655054|               0.0742|         277|            0|      0|\n",
      "|12188929|        15750|        0|         0|          1|        1|          0|      53870.4|     2295.45|           Alone|           Retired|         Secondary|                    M|         Male|                CL|               Home|                  0.010556|   23195|       365243|             null|    775|         null|         1|            0|                0|             null|                    2|                 3|                      2|                      15|                       Yes|                    Yes|                 XNA|          null|   0.135182337|   0.631354537|                 null|        1700|            3|      0|\n",
      "|12133385|        33750|        1|         0|          1|        0|          2|     133988.4|     3547.35|           Alone|        Commercial|         Secondary|                    M|       Female|                CL|               Home|                  0.020713|   11366|         2977|             5516|   4043|            6|         1|            0|                0|         Laborers|                    4|                 1|                      3|                    null|                       Yes|                    Yes|Business Entity T...|   0.508198522|   0.301181977|   0.355638717|               0.2021|         674|            1|      0|\n",
      "|12191614|        11250|        0|         1|          1|        1|          1|        13752|      653.85|           Alone|           Service|         Secondary|                    W|       Female|                CL|               Home|                  0.019101|   13881|         1184|             3910|   3910|         null|         1|            0|                0|         Laborers|                    2|                 2|                      2|                      10|                       Yes|                    Yes|               Other|          null|   0.697927562|   0.420610964|               0.0639|         739|            0|      0|\n",
      "|12128086|        15750|        1|         1|          0|        1|          0|       128835|     3779.55|           Alone|           Retired|         Secondary|                    S|         Male|                CL|               Home|                  0.016612|   21323|       365243|              113|   4855|           10|         1|            0|                0|             null|                    1|                 2|                      3|                      14|                       Yes|                    Yes|                 XNA|   0.729913215|   0.602545334|   0.511891802|               0.2041|           0|            3|      0|\n",
      "|12215264|        13500|        0|         0|          1|        1|          0|      60415.2|      3097.8|           Alone|           Retired|         Secondary|                    M|         Male|                CL|               Home|                  0.009175|   22493|       365243|            12617|   5280|         null|         1|            0|                1|             null|                    2|                 2|                      4|                      15|                       Yes|                    Yes|                 XNA|   0.711468199|   0.657507898|   0.549596502|                 null|        1687|            4|      0|\n",
      "|12159147|        13500|        1|         1|          0|        1|          1|        45000|     1200.15|        Relative|        Commercial|        Graduation|                    M|       Female|                CL|               Home|                  0.006008|    null|         7889|             5455|   2665|           14|         1|            0|                1|            Sales|                    3|                 2|                      4|                      13|                       Yes|                    Yes|       Self-employed|   0.475726518|   0.637593554|   0.553164699|                0.167|        1611|            0|      0|\n",
      "|12130547|        12150|        0|         0|          0|        1|          0|     16320.15|     1294.65|           Alone|           Retired|         Secondary|                    W|         Male|                CL|               Home|                  0.016612|   20507|       365243|             2834|   4053|         null|         1|            0|                0|             null|                    1|                 2|                   null|                       9|                       Yes|                    Yes|                 XNA|   0.682285092|   0.063343128|   0.080649544|                 null|         533|            5|      0|\n",
      "|12100935|        27000|        0|         0|          1|        1|          1|        67500|        3375|           Alone|          Govt Job|        Graduation|                    S|         Male|                RL|               Home|                  0.001417|   14816|         2263|             2933|   4640|         null|         1|            0|                0|             Core|                    2|                 2|                      3|                      12|                       Yes|                    Yes|          Government|   0.715451011|   0.770342652|    0.72239289|                 null|        1799|            1|      0|\n",
      "|12191210|        15750|        0|         0|          0|        0|          1|    149963.85|     4397.85|           Alone|           Service|        Graduation|                    M|         Male|                CL|             Family|                  0.020713|   11318|          369|             5165|   2155|         null|         1|            0|                0|            Sales|                    3|                 2|                      2|                       8|                       Yes|                    Yes|       Self-employed|   0.435028377|   0.564752392|   0.673830078|               0.5732|        1333|            3|      0|\n",
      "|12128498|        27000|     null|         0|          0|        1|          0|        28440|      1913.4|           Alone|           Service|         Secondary|                    S|       Female|                CL|             Family|                  0.018634|   10052|          389|             7758|   2647|            1|         1|            0|                0|          Drivers|                    1|                 2|                      4|                      13|                       Yes|                    Yes|       Self-employed|   0.268013843|   0.684113808|   0.493862882|               0.1485|           0|            6|      0|\n",
      "|12130196|         8100|        0|         1|          0|        0|          0|        90000|     3826.35|        Relative|           Retired|         Secondary|                    M|         Male|                CL|             Office|                   0.00963|   21396|       365243|             8000|   4591|         null|         1|            0|                1|             null|                    2|                 2|                      5|                      16|                       Yes|                    Yes|                 XNA|          null|   0.585296115|          null|                 null|        2488|         null|      0|\n",
      "|12196064|        22500|        0|         1|          1|        1|          0|     100424.7|      4666.5|           Alone|           Service|         Secondary|                    S|         Male|                CL|               Home|                  0.003541|   21160|          373|             null|   4122|         null|         1|            1|                1|            Sales|                    1|                 1|                      4|                      13|                       Yes|                    Yes|                null|          null|   0.518640821|   0.583237926|                 null|         759|            3|      0|\n",
      "|12105180|        45000|        1|         0|          0|        1|          1|     105493.5|     4482.45|           Alone|        Commercial|         Secondary|                    M|       Female|                CL|               Home|                  0.008068|   15568|         3062|             1145|   4739|           10|         1|            0|                0|         Managers|                    3|                 3|                      5|                       9|                       Yes|                    Yes|Business Entity T...|   0.351485971|    0.24123121|   0.675413291|                0.067|         713|         null|      0|\n",
      "|12121919|        11250|     null|         0|          1|        1|          1|     29713.05|     2234.25|           Alone|           Service|         Secondary|                    M|         Male|                CL|               Home|                  0.005144|   12423|         3473|             7863|   3250|         null|         1|            0|                0|             null|                    3|                 2|                      5|                      14|                       Yes|                    Yes|Business Entity T...|    0.65445984|   0.609119673|          null|               0.0072|         243|         null|      0|\n",
      "|12114826|        13500|        1|         1|          1|        0|          1|        18000|         900|          Others|           Service|         Secondary|                    M|       Female|                RL|          Municipal|                   0.04622|   12625|          125|             6775|   null|            3|         1|            0|                0|          Drivers|                    3|                 1|                      1|                      18|                       Yes|                     No|    Industry: type 3|   0.533047491|   0.552346235|   0.865895915|               0.1536|        2050|            1|      0|\n",
      "|12106559|        15750|        0|         1|          1|        1|       null|        45000|     3007.35|           Alone|           Service|         Secondary|                    S|       Female|                CL|               Home|                  0.008866|   14536|         3465|             5871|   2594|         null|         1|            1|                0|         Laborers|                    1|                 2|                      2|                      17|                       Yes|                    Yes|               Other|          null|   0.129861053|   0.590233339|               0.1031|         340|            2|      0|\n",
      "|12186490|         9000|        0|         0|          0|        0|          0|        22500|     2191.95|           Alone|           Service|         Secondary|                    S|         Male|                CL|               Home|                      null|    null|         2504|             6019|   1191|         null|         1|            0|                0|            Sales|                    1|                 2|                      2|                      11|                       Yes|                    Yes|Business Entity T...|          null|   0.418630023|   0.595456203|               0.0835|        2458|            2|      0|\n",
      "+--------+-------------+---------+----------+-----------+---------+-----------+-------------+------------+----------------+------------------+------------------+---------------------+-------------+------------------+-------------------+--------------------------+--------+-------------+-----------------+-------+-------------+----------+-------------+-----------------+-----------------+---------------------+------------------+-----------------------+------------------------+--------------------------+-----------------------+--------------------+--------------+--------------+--------------+---------------------+------------+-------------+-------+\n",
      "only showing top 20 rows\n",
      "\n"
     ]
    }
   ],
   "source": [
    "# loading \n",
    "df = spark.read.format('csv') \\\n",
    "    .option('header', 'true' ) \\\n",
    "    .option('inferSchema', 'true') \\\n",
    "    .option('sep', ',') \\\n",
    "    .load('./Train_Dataset.csv')\n",
    "df.show()"
   ]
  },
  {
   "cell_type": "markdown",
   "id": "946f7654",
   "metadata": {},
   "source": [
    "### Data Cleaning and Manipulation"
   ]
  },
  {
   "cell_type": "code",
   "execution_count": 3,
   "id": "815f66eb",
   "metadata": {},
   "outputs": [
    {
     "data": {
      "text/plain": [
       "121856"
      ]
     },
     "execution_count": 3,
     "metadata": {},
     "output_type": "execute_result"
    }
   ],
   "source": [
    "# Checking the number of rows \n",
    "df.count()"
   ]
  },
  {
   "cell_type": "code",
   "execution_count": 4,
   "id": "5b40867c",
   "metadata": {},
   "outputs": [
    {
     "name": "stdout",
     "output_type": "stream",
     "text": [
      "root\n",
      " |-- ID: integer (nullable = true)\n",
      " |-- Client_Income: string (nullable = true)\n",
      " |-- Car_Owned: integer (nullable = true)\n",
      " |-- Bike_Owned: integer (nullable = true)\n",
      " |-- Active_Loan: integer (nullable = true)\n",
      " |-- House_Own: integer (nullable = true)\n",
      " |-- Child_Count: string (nullable = true)\n",
      " |-- Credit_Amount: string (nullable = true)\n",
      " |-- Loan_Annuity: string (nullable = true)\n",
      " |-- Accompany_Client: string (nullable = true)\n",
      " |-- Client_Income_Type: string (nullable = true)\n",
      " |-- Client_Education: string (nullable = true)\n",
      " |-- Client_Marital_Status: string (nullable = true)\n",
      " |-- Client_Gender: string (nullable = true)\n",
      " |-- Loan_Contract_Type: string (nullable = true)\n",
      " |-- Client_Housing_Type: string (nullable = true)\n",
      " |-- Population_Region_Relative: string (nullable = true)\n",
      " |-- Age_Days: string (nullable = true)\n",
      " |-- Employed_Days: string (nullable = true)\n",
      " |-- Registration_Days: string (nullable = true)\n",
      " |-- ID_Days: string (nullable = true)\n",
      " |-- Own_House_Age: integer (nullable = true)\n",
      " |-- Mobile_Tag: integer (nullable = true)\n",
      " |-- Homephone_Tag: integer (nullable = true)\n",
      " |-- Workphone_Working: integer (nullable = true)\n",
      " |-- Client_Occupation: string (nullable = true)\n",
      " |-- Client_Family_Members: integer (nullable = true)\n",
      " |-- Cleint_City_Rating: integer (nullable = true)\n",
      " |-- Application_Process_Day: integer (nullable = true)\n",
      " |-- Application_Process_Hour: string (nullable = true)\n",
      " |-- Client_Permanent_Match_Tag: string (nullable = true)\n",
      " |-- Client_Contact_Work_Tag: string (nullable = true)\n",
      " |-- Type_Organization: string (nullable = true)\n",
      " |-- Score_Source_1: double (nullable = true)\n",
      " |-- Score_Source_2: double (nullable = true)\n",
      " |-- Score_Source_3: string (nullable = true)\n",
      " |-- Social_Circle_Default: double (nullable = true)\n",
      " |-- Phone_Change: integer (nullable = true)\n",
      " |-- Credit_Bureau: integer (nullable = true)\n",
      " |-- Default: integer (nullable = true)\n",
      "\n"
     ]
    }
   ],
   "source": [
    "df.printSchema()"
   ]
  },
  {
   "cell_type": "markdown",
   "id": "5363eb3f",
   "metadata": {},
   "source": [
    "\n",
    "Let us check the columns that are strings, and select the ones that need to be modified\n"
   ]
  },
  {
   "cell_type": "code",
   "execution_count": 5,
   "id": "51e34b20",
   "metadata": {},
   "outputs": [],
   "source": [
    "from pyspark.sql.functions import col"
   ]
  },
  {
   "cell_type": "code",
   "execution_count": 6,
   "id": "75afe081",
   "metadata": {},
   "outputs": [
    {
     "name": "stdout",
     "output_type": "stream",
     "text": [
      "root\n",
      " |-- Client_Income: string (nullable = true)\n",
      " |-- Child_Count: string (nullable = true)\n",
      " |-- Credit_Amount: string (nullable = true)\n",
      " |-- Loan_Annuity: string (nullable = true)\n",
      " |-- Accompany_Client: string (nullable = true)\n",
      " |-- Client_Income_Type: string (nullable = true)\n",
      " |-- Client_Education: string (nullable = true)\n",
      " |-- Client_Marital_Status: string (nullable = true)\n",
      " |-- Client_Gender: string (nullable = true)\n",
      " |-- Loan_Contract_Type: string (nullable = true)\n",
      " |-- Client_Housing_Type: string (nullable = true)\n",
      " |-- Population_Region_Relative: string (nullable = true)\n",
      " |-- Age_Days: string (nullable = true)\n",
      " |-- Employed_Days: string (nullable = true)\n",
      " |-- Registration_Days: string (nullable = true)\n",
      " |-- ID_Days: string (nullable = true)\n",
      " |-- Client_Occupation: string (nullable = true)\n",
      " |-- Application_Process_Hour: string (nullable = true)\n",
      " |-- Client_Permanent_Match_Tag: string (nullable = true)\n",
      " |-- Client_Contact_Work_Tag: string (nullable = true)\n",
      " |-- Type_Organization: string (nullable = true)\n",
      " |-- Score_Source_3: string (nullable = true)\n",
      "\n"
     ]
    }
   ],
   "source": [
    "\n",
    "# Selecting string columns\n",
    "string_columns = [c[0] for c in df.dtypes if c[1] == 'string']\n",
    "\n",
    "# Selecting the dataframe with string columns\n",
    "string_df = df.selectExpr(*string_columns)\n",
    "string_df.printSchema()\n"
   ]
  },
  {
   "cell_type": "markdown",
   "id": "56509042",
   "metadata": {},
   "source": [
    "Changing the datatype of all the columns that need to be strings"
   ]
  },
  {
   "cell_type": "code",
   "execution_count": 7,
   "id": "4554b981",
   "metadata": {},
   "outputs": [
    {
     "name": "stdout",
     "output_type": "stream",
     "text": [
      "root\n",
      " |-- ID: integer (nullable = true)\n",
      " |-- Client_Income: string (nullable = true)\n",
      " |-- Car_Owned: integer (nullable = true)\n",
      " |-- Bike_Owned: integer (nullable = true)\n",
      " |-- Active_Loan: integer (nullable = true)\n",
      " |-- House_Own: integer (nullable = true)\n",
      " |-- Child_Count: integer (nullable = true)\n",
      " |-- Credit_Amount: integer (nullable = true)\n",
      " |-- Loan_Annuity: double (nullable = true)\n",
      " |-- Accompany_Client: string (nullable = true)\n",
      " |-- Client_Income_Type: string (nullable = true)\n",
      " |-- Client_Education: string (nullable = true)\n",
      " |-- Client_Marital_Status: string (nullable = true)\n",
      " |-- Client_Gender: string (nullable = true)\n",
      " |-- Loan_Contract_Type: string (nullable = true)\n",
      " |-- Client_Housing_Type: string (nullable = true)\n",
      " |-- Population_Region_Relative: double (nullable = true)\n",
      " |-- Age_Days: integer (nullable = true)\n",
      " |-- Employed_days: integer (nullable = true)\n",
      " |-- Registration_Days: string (nullable = true)\n",
      " |-- ID_Days: integer (nullable = true)\n",
      " |-- Own_House_Age: integer (nullable = true)\n",
      " |-- Mobile_Tag: integer (nullable = true)\n",
      " |-- Homephone_Tag: integer (nullable = true)\n",
      " |-- Workphone_Working: integer (nullable = true)\n",
      " |-- Client_Occupation: string (nullable = true)\n",
      " |-- Client_Family_Members: integer (nullable = true)\n",
      " |-- Cleint_City_Rating: integer (nullable = true)\n",
      " |-- Application_Process_Day: integer (nullable = true)\n",
      " |-- Application_Process_Hour: integer (nullable = true)\n",
      " |-- Client_Permanent_Match_Tag: string (nullable = true)\n",
      " |-- Client_Contact_Work_Tag: string (nullable = true)\n",
      " |-- Type_Organization: string (nullable = true)\n",
      " |-- Score_Source_1: double (nullable = true)\n",
      " |-- Score_Source_2: double (nullable = true)\n",
      " |-- Score_Source_3: double (nullable = true)\n",
      " |-- Social_Circle_Default: double (nullable = true)\n",
      " |-- Phone_Change: integer (nullable = true)\n",
      " |-- Credit_Bureau: integer (nullable = true)\n",
      " |-- Default: integer (nullable = true)\n",
      "\n"
     ]
    }
   ],
   "source": [
    "df = df.withColumn('Child_Count', col('Child_Count').cast('integer'))\\\n",
    "    .withColumn('Credit_Amount', col('Credit_Amount').cast('integer'))\\\n",
    "    .withColumn('Loan_Annuity', col('Loan_Annuity').cast('double'))\\\n",
    "    .withColumn('Population_Region_Relative', col('Population_Region_Relative').cast('double'))\\\n",
    "    .withColumn('Age_Days', col('Age_Days').cast('integer'))\\\n",
    "    .withColumn('Employed_days', col('Employed_days').cast('integer'))\\\n",
    "    .withColumn('ID_Days', col('ID_Days').cast('integer'))\\\n",
    "    .withColumn('Application_Process_Hour', col('Application_Process_Hour').cast('integer'))\\\n",
    "    .withColumn('Score_Source_3', col('Score_Source_3').cast('double'))\n",
    "df.printSchema()"
   ]
  },
  {
   "cell_type": "markdown",
   "id": "30c7063c",
   "metadata": {},
   "source": [
    "#### Checking for and dealing with null values"
   ]
  },
  {
   "cell_type": "code",
   "execution_count": 9,
   "id": "409af118",
   "metadata": {},
   "outputs": [
    {
     "name": "stderr",
     "output_type": "stream",
     "text": [
      "[Stage 6:=============================>                             (2 + 2) / 4]\r"
     ]
    },
    {
     "name": "stdout",
     "output_type": "stream",
     "text": [
      "+---+-------------+---------+----------+-----------+---------+-----------+-------------+------------+----------------+------------------+----------------+---------------------+-------------+------------------+-------------------+--------------------------+--------+-------------+-----------------+-------+-------------+----------+-------------+-----------------+-----------------+---------------------+------------------+-----------------------+------------------------+--------------------------+-----------------------+-----------------+--------------+--------------+--------------+---------------------+------------+-------------+-------+\n",
      "| ID|Client_Income|Car_Owned|Bike_Owned|Active_Loan|House_Own|Child_Count|Credit_Amount|Loan_Annuity|Accompany_Client|Client_Income_Type|Client_Education|Client_Marital_Status|Client_Gender|Loan_Contract_Type|Client_Housing_Type|Population_Region_Relative|Age_Days|Employed_days|Registration_Days|ID_Days|Own_House_Age|Mobile_Tag|Homephone_Tag|Workphone_Working|Client_Occupation|Client_Family_Members|Cleint_City_Rating|Application_Process_Day|Application_Process_Hour|Client_Permanent_Match_Tag|Client_Contact_Work_Tag|Type_Organization|Score_Source_1|Score_Source_2|Score_Source_3|Social_Circle_Default|Phone_Change|Credit_Bureau|Default|\n",
      "+---+-------------+---------+----------+-----------+---------+-----------+-------------+------------+----------------+------------------+----------------+---------------------+-------------+------------------+-------------------+--------------------------+--------+-------------+-----------------+-------+-------------+----------+-------------+-----------------+-----------------+---------------------+------------------+-----------------------+------------------------+--------------------------+-----------------------+-----------------+--------------+--------------+--------------+---------------------+------------+-------------+-------+\n",
      "|  0|         3607|     3581|      3624|       3635|     3661|       3638|         3637|        4826|            1746|              3701|            3645|                 3473|         2413|              3651|               3687|                      4868|    3617|         3666|             3614|   5985|        80095|         0|            0|                0|            41435|                 2410|              2409|                   2428|                    3663|                         0|                      0|             3609|         68835|          5686|         26922|                61928|        3664|        18540|      0|\n",
      "+---+-------------+---------+----------+-----------+---------+-----------+-------------+------------+----------------+------------------+----------------+---------------------+-------------+------------------+-------------------+--------------------------+--------+-------------+-----------------+-------+-------------+----------+-------------+-----------------+-----------------+---------------------+------------------+-----------------------+------------------------+--------------------------+-----------------------+-----------------+--------------+--------------+--------------+---------------------+------------+-------------+-------+\n",
      "\n"
     ]
    },
    {
     "name": "stderr",
     "output_type": "stream",
     "text": [
      "\r",
      "                                                                                \r"
     ]
    }
   ],
   "source": [
    "from pyspark.sql.functions import isnan, when, count, col\n",
    "df.select([count(when(isnan(c) | col(c).isNull(), c)).alias(c) for c in df.columns]).show()"
   ]
  },
  {
   "cell_type": "markdown",
   "id": "ba614972",
   "metadata": {},
   "source": [
    "Let us first drop all the null values where all the values are missing\n"
   ]
  },
  {
   "cell_type": "code",
   "execution_count": 10,
   "id": "de328da9",
   "metadata": {},
   "outputs": [
    {
     "name": "stdout",
     "output_type": "stream",
     "text": [
      "+--------+-------------+---------+----------+-----------+---------+-----------+-------------+------------+----------------+------------------+------------------+---------------------+-------------+------------------+-------------------+--------------------------+--------+-------------+-----------------+-------+-------------+----------+-------------+-----------------+-----------------+---------------------+------------------+-----------------------+------------------------+--------------------------+-----------------------+--------------------+--------------+--------------+--------------+---------------------+------------+-------------+-------+\n",
      "|      ID|Client_Income|Car_Owned|Bike_Owned|Active_Loan|House_Own|Child_Count|Credit_Amount|Loan_Annuity|Accompany_Client|Client_Income_Type|  Client_Education|Client_Marital_Status|Client_Gender|Loan_Contract_Type|Client_Housing_Type|Population_Region_Relative|Age_Days|Employed_days|Registration_Days|ID_Days|Own_House_Age|Mobile_Tag|Homephone_Tag|Workphone_Working|Client_Occupation|Client_Family_Members|Cleint_City_Rating|Application_Process_Day|Application_Process_Hour|Client_Permanent_Match_Tag|Client_Contact_Work_Tag|   Type_Organization|Score_Source_1|Score_Source_2|Score_Source_3|Social_Circle_Default|Phone_Change|Credit_Bureau|Default|\n",
      "+--------+-------------+---------+----------+-----------+---------+-----------+-------------+------------+----------------+------------------+------------------+---------------------+-------------+------------------+-------------------+--------------------------+--------+-------------+-----------------+-------+-------------+----------+-------------+-----------------+-----------------+---------------------+------------------+-----------------------+------------------------+--------------------------+-----------------------+--------------------+--------------+--------------+--------------+---------------------+------------+-------------+-------+\n",
      "|12142509|         6750|        0|         0|          1|        0|          0|        61190|     3416.85|           Alone|        Commercial|         Secondary|                    M|         Male|                CL|               Home|                  0.028663|   13957|         1062|             6123|    383|         null|         1|            1|                0|            Sales|                    2|                 2|                      6|                      17|                       Yes|                    Yes|       Self-employed|    0.56806615|    0.47878667|          null|               0.0186|          63|         null|      0|\n",
      "|12138936|        20250|        1|         0|          1|     null|          0|        15282|     1826.55|           Alone|           Service|        Graduation|                    M|         Male|                CL|               Home|                  0.008575|   14162|         4129|             7833|     21|            0|         1|            0|                1|             null|                    2|                 2|                      3|                      10|                       Yes|                    Yes|          Government|   0.563360099|   0.215068341|          null|                 null|        null|         null|      0|\n",
      "|12181264|        18000|        0|         0|          1|        0|          1|        59527|      2788.2|           Alone|           Service|Graduation dropout|                    W|         Male|                CL|             Family|                    0.0228|   16790|         5102|             null|    331|         null|         1|            0|                0|    Realty agents|                    2|                 2|                      4|                    null|                       Yes|                    Yes|       Self-employed|          null|   0.552794972|   0.329655054|               0.0742|         277|            0|      0|\n",
      "|12188929|        15750|        0|         0|          1|        1|          0|        53870|     2295.45|           Alone|           Retired|         Secondary|                    M|         Male|                CL|               Home|                  0.010556|   23195|       365243|             null|    775|         null|         1|            0|                0|             null|                    2|                 3|                      2|                      15|                       Yes|                    Yes|                 XNA|          null|   0.135182337|   0.631354537|                 null|        1700|            3|      0|\n",
      "|12133385|        33750|        1|         0|          1|        0|          2|       133988|     3547.35|           Alone|        Commercial|         Secondary|                    M|       Female|                CL|               Home|                  0.020713|   11366|         2977|             5516|   4043|            6|         1|            0|                0|         Laborers|                    4|                 1|                      3|                    null|                       Yes|                    Yes|Business Entity T...|   0.508198522|   0.301181977|   0.355638717|               0.2021|         674|            1|      0|\n",
      "|12191614|        11250|        0|         1|          1|        1|          1|        13752|      653.85|           Alone|           Service|         Secondary|                    W|       Female|                CL|               Home|                  0.019101|   13881|         1184|             3910|   3910|         null|         1|            0|                0|         Laborers|                    2|                 2|                      2|                      10|                       Yes|                    Yes|               Other|          null|   0.697927562|   0.420610964|               0.0639|         739|            0|      0|\n",
      "|12128086|        15750|        1|         1|          0|        1|          0|       128835|     3779.55|           Alone|           Retired|         Secondary|                    S|         Male|                CL|               Home|                  0.016612|   21323|       365243|              113|   4855|           10|         1|            0|                0|             null|                    1|                 2|                      3|                      14|                       Yes|                    Yes|                 XNA|   0.729913215|   0.602545334|   0.511891802|               0.2041|           0|            3|      0|\n",
      "|12215264|        13500|        0|         0|          1|        1|          0|        60415|      3097.8|           Alone|           Retired|         Secondary|                    M|         Male|                CL|               Home|                  0.009175|   22493|       365243|            12617|   5280|         null|         1|            0|                1|             null|                    2|                 2|                      4|                      15|                       Yes|                    Yes|                 XNA|   0.711468199|   0.657507898|   0.549596502|                 null|        1687|            4|      0|\n",
      "|12159147|        13500|        1|         1|          0|        1|          1|        45000|     1200.15|        Relative|        Commercial|        Graduation|                    M|       Female|                CL|               Home|                  0.006008|    null|         7889|             5455|   2665|           14|         1|            0|                1|            Sales|                    3|                 2|                      4|                      13|                       Yes|                    Yes|       Self-employed|   0.475726518|   0.637593554|   0.553164699|                0.167|        1611|            0|      0|\n",
      "|12130547|        12150|        0|         0|          0|        1|          0|        16320|     1294.65|           Alone|           Retired|         Secondary|                    W|         Male|                CL|               Home|                  0.016612|   20507|       365243|             2834|   4053|         null|         1|            0|                0|             null|                    1|                 2|                   null|                       9|                       Yes|                    Yes|                 XNA|   0.682285092|   0.063343128|   0.080649544|                 null|         533|            5|      0|\n",
      "|12100935|        27000|        0|         0|          1|        1|          1|        67500|      3375.0|           Alone|          Govt Job|        Graduation|                    S|         Male|                RL|               Home|                  0.001417|   14816|         2263|             2933|   4640|         null|         1|            0|                0|             Core|                    2|                 2|                      3|                      12|                       Yes|                    Yes|          Government|   0.715451011|   0.770342652|    0.72239289|                 null|        1799|            1|      0|\n",
      "|12191210|        15750|        0|         0|          0|        0|          1|       149963|     4397.85|           Alone|           Service|        Graduation|                    M|         Male|                CL|             Family|                  0.020713|   11318|          369|             5165|   2155|         null|         1|            0|                0|            Sales|                    3|                 2|                      2|                       8|                       Yes|                    Yes|       Self-employed|   0.435028377|   0.564752392|   0.673830078|               0.5732|        1333|            3|      0|\n",
      "|12128498|        27000|     null|         0|          0|        1|          0|        28440|      1913.4|           Alone|           Service|         Secondary|                    S|       Female|                CL|             Family|                  0.018634|   10052|          389|             7758|   2647|            1|         1|            0|                0|          Drivers|                    1|                 2|                      4|                      13|                       Yes|                    Yes|       Self-employed|   0.268013843|   0.684113808|   0.493862882|               0.1485|           0|            6|      0|\n",
      "|12130196|         8100|        0|         1|          0|        0|          0|        90000|     3826.35|        Relative|           Retired|         Secondary|                    M|         Male|                CL|             Office|                   0.00963|   21396|       365243|             8000|   4591|         null|         1|            0|                1|             null|                    2|                 2|                      5|                      16|                       Yes|                    Yes|                 XNA|          null|   0.585296115|          null|                 null|        2488|         null|      0|\n",
      "|12196064|        22500|        0|         1|          1|        1|          0|       100424|      4666.5|           Alone|           Service|         Secondary|                    S|         Male|                CL|               Home|                  0.003541|   21160|          373|             null|   4122|         null|         1|            1|                1|            Sales|                    1|                 1|                      4|                      13|                       Yes|                    Yes|                null|          null|   0.518640821|   0.583237926|                 null|         759|            3|      0|\n",
      "|12105180|        45000|        1|         0|          0|        1|          1|       105493|     4482.45|           Alone|        Commercial|         Secondary|                    M|       Female|                CL|               Home|                  0.008068|   15568|         3062|             1145|   4739|           10|         1|            0|                0|         Managers|                    3|                 3|                      5|                       9|                       Yes|                    Yes|Business Entity T...|   0.351485971|    0.24123121|   0.675413291|                0.067|         713|         null|      0|\n",
      "|12121919|        11250|     null|         0|          1|        1|          1|        29713|     2234.25|           Alone|           Service|         Secondary|                    M|         Male|                CL|               Home|                  0.005144|   12423|         3473|             7863|   3250|         null|         1|            0|                0|             null|                    3|                 2|                      5|                      14|                       Yes|                    Yes|Business Entity T...|    0.65445984|   0.609119673|          null|               0.0072|         243|         null|      0|\n",
      "|12114826|        13500|        1|         1|          1|        0|          1|        18000|       900.0|          Others|           Service|         Secondary|                    M|       Female|                RL|          Municipal|                   0.04622|   12625|          125|             6775|   null|            3|         1|            0|                0|          Drivers|                    3|                 1|                      1|                      18|                       Yes|                     No|    Industry: type 3|   0.533047491|   0.552346235|   0.865895915|               0.1536|        2050|            1|      0|\n",
      "|12106559|        15750|        0|         1|          1|        1|       null|        45000|     3007.35|           Alone|           Service|         Secondary|                    S|       Female|                CL|               Home|                  0.008866|   14536|         3465|             5871|   2594|         null|         1|            1|                0|         Laborers|                    1|                 2|                      2|                      17|                       Yes|                    Yes|               Other|          null|   0.129861053|   0.590233339|               0.1031|         340|            2|      0|\n",
      "|12186490|         9000|        0|         0|          0|        0|          0|        22500|     2191.95|           Alone|           Service|         Secondary|                    S|         Male|                CL|               Home|                      null|    null|         2504|             6019|   1191|         null|         1|            0|                0|            Sales|                    1|                 2|                      2|                      11|                       Yes|                    Yes|Business Entity T...|          null|   0.418630023|   0.595456203|               0.0835|        2458|            2|      0|\n",
      "+--------+-------------+---------+----------+-----------+---------+-----------+-------------+------------+----------------+------------------+------------------+---------------------+-------------+------------------+-------------------+--------------------------+--------+-------------+-----------------+-------+-------------+----------+-------------+-----------------+-----------------+---------------------+------------------+-----------------------+------------------------+--------------------------+-----------------------+--------------------+--------------+--------------+--------------+---------------------+------------+-------------+-------+\n",
      "only showing top 20 rows\n",
      "\n"
     ]
    }
   ],
   "source": [
    "df.show()"
   ]
  },
  {
   "cell_type": "markdown",
   "id": "d991e481",
   "metadata": {},
   "source": [
    "For the binary variables we are going to impute the missing values with the mode"
   ]
  },
  {
   "cell_type": "code",
   "execution_count": 15,
   "id": "3b47e3b5",
   "metadata": {
    "scrolled": true
   },
   "outputs": [
    {
     "name": "stderr",
     "output_type": "stream",
     "text": [
      "[Stage 16:=============================>                            (2 + 2) / 4]\r"
     ]
    },
    {
     "name": "stdout",
     "output_type": "stream",
     "text": [
      "+---+-------------+---------+----------+-----------+---------+-----------+-------------+------------+----------------+------------------+----------------+---------------------+-------------+------------------+-------------------+--------------------------+--------+-------------+-----------------+-------+-------------+----------+-------------+-----------------+-----------------+---------------------+------------------+-----------------------+------------------------+--------------------------+-----------------------+-----------------+--------------+--------------+--------------+---------------------+------------+-------------+-------+\n",
      "| ID|Client_Income|Car_Owned|Bike_Owned|Active_Loan|House_Own|Child_Count|Credit_Amount|Loan_Annuity|Accompany_Client|Client_Income_Type|Client_Education|Client_Marital_Status|Client_Gender|Loan_Contract_Type|Client_Housing_Type|Population_Region_Relative|Age_Days|Employed_days|Registration_Days|ID_Days|Own_House_Age|Mobile_Tag|Homephone_Tag|Workphone_Working|Client_Occupation|Client_Family_Members|Cleint_City_Rating|Application_Process_Day|Application_Process_Hour|Client_Permanent_Match_Tag|Client_Contact_Work_Tag|Type_Organization|Score_Source_1|Score_Source_2|Score_Source_3|Social_Circle_Default|Phone_Change|Credit_Bureau|Default|\n",
      "+---+-------------+---------+----------+-----------+---------+-----------+-------------+------------+----------------+------------------+----------------+---------------------+-------------+------------------+-------------------+--------------------------+--------+-------------+-----------------+-------+-------------+----------+-------------+-----------------+-----------------+---------------------+------------------+-----------------------+------------------------+--------------------------+-----------------------+-----------------+--------------+--------------+--------------+---------------------+------------+-------------+-------+\n",
      "|  0|         3607|        0|         0|          0|        0|       3638|         3637|        4826|            1746|              3701|            3645|                 3473|         2413|              3651|               3687|                      4868|    3617|         3666|             3614|   5985|        80095|         0|            0|                0|            41435|                 2410|              2409|                   2428|                    3663|                         0|                      0|             3609|         68835|          5686|         26922|                61928|        3664|        18540|      0|\n",
      "+---+-------------+---------+----------+-----------+---------+-----------+-------------+------------+----------------+------------------+----------------+---------------------+-------------+------------------+-------------------+--------------------------+--------+-------------+-----------------+-------+-------------+----------+-------------+-----------------+-----------------+---------------------+------------------+-----------------------+------------------------+--------------------------+-----------------------+-----------------+--------------+--------------+--------------+---------------------+------------+-------------+-------+\n",
      "\n"
     ]
    },
    {
     "name": "stderr",
     "output_type": "stream",
     "text": [
      "\r",
      "                                                                                \r"
     ]
    }
   ],
   "source": [
    "from pyspark.sql.functions import when, approx_count_distinct # A replacement of mode in newer versions of spark\n",
    "binary_cols = ['Car_Owned', 'Bike_Owned', 'Active_Loan', 'House_Own']\n",
    "\n",
    "# Computing the mode of eahch selected column\n",
    "modes = df.agg(*[approx_count_distinct(c).alias(c) for c in binary_cols])\n",
    "\n",
    "# Filling in the missing values with the mode\n",
    "df = df.fillna(modes.first().asDict(), subset=[binary_cols])\n",
    "df.select([count(when(isnan(c) | col(c).isNull(), c)).alias(c) for c in df.columns]).show()"
   ]
  },
  {
   "cell_type": "markdown",
   "id": "ea8897e5",
   "metadata": {},
   "source": [
    "Replacing child count with mean"
   ]
  },
  {
   "cell_type": "code",
   "execution_count": 17,
   "id": "6e5f34b6",
   "metadata": {},
   "outputs": [
    {
     "name": "stderr",
     "output_type": "stream",
     "text": [
      "[Stage 25:=============================>                            (2 + 2) / 4]\r"
     ]
    },
    {
     "name": "stdout",
     "output_type": "stream",
     "text": [
      "+---+-------------+---------+----------+-----------+---------+-----------+-------------+------------+----------------+------------------+----------------+---------------------+-------------+------------------+-------------------+--------------------------+--------+-------------+-----------------+-------+-------------+----------+-------------+-----------------+-----------------+---------------------+------------------+-----------------------+------------------------+--------------------------+-----------------------+-----------------+--------------+--------------+--------------+---------------------+------------+-------------+-------+\n",
      "| ID|Client_Income|Car_Owned|Bike_Owned|Active_Loan|House_Own|Child_Count|Credit_Amount|Loan_Annuity|Accompany_Client|Client_Income_Type|Client_Education|Client_Marital_Status|Client_Gender|Loan_Contract_Type|Client_Housing_Type|Population_Region_Relative|Age_Days|Employed_days|Registration_Days|ID_Days|Own_House_Age|Mobile_Tag|Homephone_Tag|Workphone_Working|Client_Occupation|Client_Family_Members|Cleint_City_Rating|Application_Process_Day|Application_Process_Hour|Client_Permanent_Match_Tag|Client_Contact_Work_Tag|Type_Organization|Score_Source_1|Score_Source_2|Score_Source_3|Social_Circle_Default|Phone_Change|Credit_Bureau|Default|\n",
      "+---+-------------+---------+----------+-----------+---------+-----------+-------------+------------+----------------+------------------+----------------+---------------------+-------------+------------------+-------------------+--------------------------+--------+-------------+-----------------+-------+-------------+----------+-------------+-----------------+-----------------+---------------------+------------------+-----------------------+------------------------+--------------------------+-----------------------+-----------------+--------------+--------------+--------------+---------------------+------------+-------------+-------+\n",
      "|  0|         3607|        0|         0|          0|        0|          0|         3637|        4826|            1746|              3701|            3645|                 3473|         2413|              3651|               3687|                      4868|    3617|         3666|             3614|   5985|        80095|         0|            0|                0|            41435|                 2410|              2409|                   2428|                    3663|                         0|                      0|             3609|         68835|          5686|         26922|                61928|        3664|        18540|      0|\n",
      "+---+-------------+---------+----------+-----------+---------+-----------+-------------+------------+----------------+------------------+----------------+---------------------+-------------+------------------+-------------------+--------------------------+--------+-------------+-----------------+-------+-------------+----------+-------------+-----------------+-----------------+---------------------+------------------+-----------------------+------------------------+--------------------------+-----------------------+-----------------+--------------+--------------+--------------+---------------------+------------+-------------+-------+\n",
      "\n"
     ]
    },
    {
     "name": "stderr",
     "output_type": "stream",
     "text": [
      "\r",
      "                                                                                \r"
     ]
    }
   ],
   "source": [
    "from pyspark.sql.functions import mean\n",
    "# Computing the mode of eahch selected column\n",
    "means = df.agg(mean('Child_Count'))\n",
    "\n",
    "# Extracting the mean from the dataframe\n",
    "mean_val = means.collect()[0][0]\n",
    "\n",
    "# Filling in the missing values with the mode\n",
    "df = df.fillna(mean_val, subset=['Child_Count'])\n",
    "df.select([count(when(isnan(c) | col(c).isNull(), c)).alias(c) for c in df.columns]).show()"
   ]
  },
  {
   "cell_type": "markdown",
   "id": "ee124a60",
   "metadata": {},
   "source": [
    "Now for the remaining numerical variables, we are going to icheck the distributions. If they are normally distributed, we will use mean. If they are skewed, we will use mode"
   ]
  },
  {
   "cell_type": "code",
   "execution_count": 60,
   "id": "60e6e2f2",
   "metadata": {},
   "outputs": [
    {
     "ename": "AttributeError",
     "evalue": "'DataFrame' object has no attribute 'hist'",
     "output_type": "error",
     "traceback": [
      "\u001b[0;31m---------------------------------------------------------------------------\u001b[0m",
      "\u001b[0;31mAttributeError\u001b[0m                            Traceback (most recent call last)",
      "\u001b[0;32m/tmp/ipykernel_382872/1690426122.py\u001b[0m in \u001b[0;36m<module>\u001b[0;34m\u001b[0m\n\u001b[1;32m      3\u001b[0m \u001b[0mnumeric_cols\u001b[0m \u001b[0;34m=\u001b[0m \u001b[0;34m[\u001b[0m\u001b[0mc\u001b[0m \u001b[0;32mfor\u001b[0m \u001b[0mc\u001b[0m\u001b[0;34m,\u001b[0m \u001b[0mt\u001b[0m \u001b[0;32min\u001b[0m \u001b[0mdf\u001b[0m\u001b[0;34m.\u001b[0m\u001b[0mdtypes\u001b[0m \u001b[0;32mif\u001b[0m \u001b[0mt\u001b[0m \u001b[0;32min\u001b[0m \u001b[0;34m[\u001b[0m\u001b[0;34m'int'\u001b[0m\u001b[0;34m,\u001b[0m \u001b[0;34m'float'\u001b[0m\u001b[0;34m,\u001b[0m \u001b[0;34m'double'\u001b[0m\u001b[0;34m]\u001b[0m\u001b[0;34m]\u001b[0m\u001b[0;34m\u001b[0m\u001b[0;34m\u001b[0m\u001b[0m\n\u001b[1;32m      4\u001b[0m \u001b[0mnumerical_df\u001b[0m \u001b[0;34m=\u001b[0m \u001b[0mdf\u001b[0m\u001b[0;34m[\u001b[0m\u001b[0mnumeric_cols\u001b[0m\u001b[0;34m]\u001b[0m\u001b[0;34m\u001b[0m\u001b[0;34m\u001b[0m\u001b[0m\n\u001b[0;32m----> 5\u001b[0;31m \u001b[0mnumerical_df\u001b[0m\u001b[0;34m.\u001b[0m\u001b[0mhist\u001b[0m\u001b[0;34m(\u001b[0m\u001b[0mlayout\u001b[0m\u001b[0;34m=\u001b[0m\u001b[0;34m(\u001b[0m\u001b[0;36m4\u001b[0m\u001b[0;34m,\u001b[0m\u001b[0;36m5\u001b[0m\u001b[0;34m)\u001b[0m\u001b[0;34m,\u001b[0m \u001b[0mcolor\u001b[0m\u001b[0;34m=\u001b[0m\u001b[0;34m'blue'\u001b[0m\u001b[0;34m,\u001b[0m \u001b[0mfigsize\u001b[0m\u001b[0;34m=\u001b[0m\u001b[0;34m(\u001b[0m\u001b[0;36m5\u001b[0m\u001b[0;34m,\u001b[0m\u001b[0;36m10\u001b[0m\u001b[0;34m)\u001b[0m\u001b[0;34m,\u001b[0m \u001b[0mgrid\u001b[0m\u001b[0;34m=\u001b[0m\u001b[0;32mFalse\u001b[0m\u001b[0;34m)\u001b[0m\u001b[0;34m\u001b[0m\u001b[0;34m\u001b[0m\u001b[0m\n\u001b[0m\u001b[1;32m      6\u001b[0m \u001b[0mplt\u001b[0m\u001b[0;34m.\u001b[0m\u001b[0msuptitle\u001b[0m\u001b[0;34m(\u001b[0m\u001b[0;34m'Histogram plot for all numeric variables'\u001b[0m\u001b[0;34m)\u001b[0m\u001b[0;34m\u001b[0m\u001b[0;34m\u001b[0m\u001b[0m\n",
      "\u001b[0;32m~/anaconda3/lib/python3.9/site-packages/pyspark/sql/dataframe.py\u001b[0m in \u001b[0;36m__getattr__\u001b[0;34m(self, name)\u001b[0m\n\u001b[1;32m   1986\u001b[0m         \"\"\"\n\u001b[1;32m   1987\u001b[0m         \u001b[0;32mif\u001b[0m \u001b[0mname\u001b[0m \u001b[0;32mnot\u001b[0m \u001b[0;32min\u001b[0m \u001b[0mself\u001b[0m\u001b[0;34m.\u001b[0m\u001b[0mcolumns\u001b[0m\u001b[0;34m:\u001b[0m\u001b[0;34m\u001b[0m\u001b[0;34m\u001b[0m\u001b[0m\n\u001b[0;32m-> 1988\u001b[0;31m             raise AttributeError(\n\u001b[0m\u001b[1;32m   1989\u001b[0m                 \u001b[0;34m\"'%s' object has no attribute '%s'\"\u001b[0m \u001b[0;34m%\u001b[0m \u001b[0;34m(\u001b[0m\u001b[0mself\u001b[0m\u001b[0;34m.\u001b[0m\u001b[0m__class__\u001b[0m\u001b[0;34m.\u001b[0m\u001b[0m__name__\u001b[0m\u001b[0;34m,\u001b[0m \u001b[0mname\u001b[0m\u001b[0;34m)\u001b[0m\u001b[0;34m\u001b[0m\u001b[0;34m\u001b[0m\u001b[0m\n\u001b[1;32m   1990\u001b[0m             )\n",
      "\u001b[0;31mAttributeError\u001b[0m: 'DataFrame' object has no attribute 'hist'"
     ]
    }
   ],
   "source": [
    "import matplotlib.pyplot as plt\n",
    "# Getting a list of all the numerical values (Ingeters, doubles or floats)\n",
    "numeric_cols = [c for c, t in df.dtypes if t in ['int', 'float', 'double']]\n",
    "numerical_df = df[numeric_cols]\n",
    "numerical_df.hist(layout=(4,5), color='blue', figsize=(5,10), grid=False)\n",
    "plt.suptitle('Histogram plot for all numeric variables')"
   ]
  },
  {
   "cell_type": "code",
   "execution_count": null,
   "id": "f3fdd32f",
   "metadata": {},
   "outputs": [],
   "source": []
  },
  {
   "cell_type": "code",
   "execution_count": 39,
   "id": "3b4a68eb",
   "metadata": {
    "scrolled": false
   },
   "outputs": [
    {
     "ename": "ParseException",
     "evalue": "\nSyntax error at or near end of input: extra input end of input(line 1, pos 27)\n\n== SQL ==\npercentile_approx('ID', 0.5\n---------------------------^^^\n",
     "output_type": "error",
     "traceback": [
      "\u001b[0;31m---------------------------------------------------------------------------\u001b[0m",
      "\u001b[0;31mParseException\u001b[0m                            Traceback (most recent call last)",
      "\u001b[0;32m/tmp/ipykernel_382872/1997715093.py\u001b[0m in \u001b[0;36m<module>\u001b[0;34m\u001b[0m\n\u001b[1;32m      4\u001b[0m \u001b[0;34m\u001b[0m\u001b[0m\n\u001b[1;32m      5\u001b[0m \u001b[0;31m# Getting the Median from the dataframe\u001b[0m\u001b[0;34m\u001b[0m\u001b[0;34m\u001b[0m\u001b[0m\n\u001b[0;32m----> 6\u001b[0;31m \u001b[0mmedian_expr\u001b[0m \u001b[0;34m=\u001b[0m \u001b[0;34m[\u001b[0m\u001b[0mexpr\u001b[0m\u001b[0;34m(\u001b[0m\u001b[0;34mf\"percentile_approx('{c}', 0.5\"\u001b[0m\u001b[0;34m)\u001b[0m \u001b[0;32mfor\u001b[0m \u001b[0mc\u001b[0m \u001b[0;32min\u001b[0m \u001b[0mnumeric_cols\u001b[0m\u001b[0;34m]\u001b[0m\u001b[0;34m\u001b[0m\u001b[0;34m\u001b[0m\u001b[0m\n\u001b[0m\u001b[1;32m      7\u001b[0m \u001b[0mmedian_value\u001b[0m \u001b[0;34m=\u001b[0m \u001b[0mdf\u001b[0m\u001b[0;34m.\u001b[0m\u001b[0mselect\u001b[0m\u001b[0;34m(\u001b[0m\u001b[0;34m*\u001b[0m\u001b[0mmedian_expr\u001b[0m\u001b[0;34m)\u001b[0m\u001b[0;34m.\u001b[0m\u001b[0mfirst\u001b[0m\u001b[0;34m(\u001b[0m\u001b[0;34m)\u001b[0m\u001b[0;34m\u001b[0m\u001b[0;34m\u001b[0m\u001b[0m\n\u001b[1;32m      8\u001b[0m \u001b[0;34m\u001b[0m\u001b[0m\n",
      "\u001b[0;32m/tmp/ipykernel_382872/1997715093.py\u001b[0m in \u001b[0;36m<listcomp>\u001b[0;34m(.0)\u001b[0m\n\u001b[1;32m      4\u001b[0m \u001b[0;34m\u001b[0m\u001b[0m\n\u001b[1;32m      5\u001b[0m \u001b[0;31m# Getting the Median from the dataframe\u001b[0m\u001b[0;34m\u001b[0m\u001b[0;34m\u001b[0m\u001b[0m\n\u001b[0;32m----> 6\u001b[0;31m \u001b[0mmedian_expr\u001b[0m \u001b[0;34m=\u001b[0m \u001b[0;34m[\u001b[0m\u001b[0mexpr\u001b[0m\u001b[0;34m(\u001b[0m\u001b[0;34mf\"percentile_approx('{c}', 0.5\"\u001b[0m\u001b[0;34m)\u001b[0m \u001b[0;32mfor\u001b[0m \u001b[0mc\u001b[0m \u001b[0;32min\u001b[0m \u001b[0mnumeric_cols\u001b[0m\u001b[0;34m]\u001b[0m\u001b[0;34m\u001b[0m\u001b[0;34m\u001b[0m\u001b[0m\n\u001b[0m\u001b[1;32m      7\u001b[0m \u001b[0mmedian_value\u001b[0m \u001b[0;34m=\u001b[0m \u001b[0mdf\u001b[0m\u001b[0;34m.\u001b[0m\u001b[0mselect\u001b[0m\u001b[0;34m(\u001b[0m\u001b[0;34m*\u001b[0m\u001b[0mmedian_expr\u001b[0m\u001b[0;34m)\u001b[0m\u001b[0;34m.\u001b[0m\u001b[0mfirst\u001b[0m\u001b[0;34m(\u001b[0m\u001b[0;34m)\u001b[0m\u001b[0;34m\u001b[0m\u001b[0;34m\u001b[0m\u001b[0m\n\u001b[1;32m      8\u001b[0m \u001b[0;34m\u001b[0m\u001b[0m\n",
      "\u001b[0;32m~/anaconda3/lib/python3.9/site-packages/pyspark/sql/functions.py\u001b[0m in \u001b[0;36mexpr\u001b[0;34m(str)\u001b[0m\n\u001b[1;32m   1626\u001b[0m     \u001b[0;34m[\u001b[0m\u001b[0mRow\u001b[0m\u001b[0;34m(\u001b[0m\u001b[0mlength\u001b[0m\u001b[0;34m(\u001b[0m\u001b[0mname\u001b[0m\u001b[0;34m)\u001b[0m\u001b[0;34m=\u001b[0m\u001b[0;36m5\u001b[0m\u001b[0;34m)\u001b[0m\u001b[0;34m,\u001b[0m \u001b[0mRow\u001b[0m\u001b[0;34m(\u001b[0m\u001b[0mlength\u001b[0m\u001b[0;34m(\u001b[0m\u001b[0mname\u001b[0m\u001b[0;34m)\u001b[0m\u001b[0;34m=\u001b[0m\u001b[0;36m3\u001b[0m\u001b[0;34m)\u001b[0m\u001b[0;34m]\u001b[0m\u001b[0;34m\u001b[0m\u001b[0;34m\u001b[0m\u001b[0m\n\u001b[1;32m   1627\u001b[0m     \"\"\"\n\u001b[0;32m-> 1628\u001b[0;31m     \u001b[0;32mreturn\u001b[0m \u001b[0m_invoke_function\u001b[0m\u001b[0;34m(\u001b[0m\u001b[0;34m\"expr\"\u001b[0m\u001b[0;34m,\u001b[0m \u001b[0mstr\u001b[0m\u001b[0;34m)\u001b[0m\u001b[0;34m\u001b[0m\u001b[0;34m\u001b[0m\u001b[0m\n\u001b[0m\u001b[1;32m   1629\u001b[0m \u001b[0;34m\u001b[0m\u001b[0m\n\u001b[1;32m   1630\u001b[0m \u001b[0;34m\u001b[0m\u001b[0m\n",
      "\u001b[0;32m~/anaconda3/lib/python3.9/site-packages/pyspark/sql/functions.py\u001b[0m in \u001b[0;36m_invoke_function\u001b[0;34m(name, *args)\u001b[0m\n\u001b[1;32m     83\u001b[0m     \u001b[0;32massert\u001b[0m \u001b[0mSparkContext\u001b[0m\u001b[0;34m.\u001b[0m\u001b[0m_active_spark_context\u001b[0m \u001b[0;32mis\u001b[0m \u001b[0;32mnot\u001b[0m \u001b[0;32mNone\u001b[0m\u001b[0;34m\u001b[0m\u001b[0;34m\u001b[0m\u001b[0m\n\u001b[1;32m     84\u001b[0m     \u001b[0mjf\u001b[0m \u001b[0;34m=\u001b[0m \u001b[0m_get_jvm_function\u001b[0m\u001b[0;34m(\u001b[0m\u001b[0mname\u001b[0m\u001b[0;34m,\u001b[0m \u001b[0mSparkContext\u001b[0m\u001b[0;34m.\u001b[0m\u001b[0m_active_spark_context\u001b[0m\u001b[0;34m)\u001b[0m\u001b[0;34m\u001b[0m\u001b[0;34m\u001b[0m\u001b[0m\n\u001b[0;32m---> 85\u001b[0;31m     \u001b[0;32mreturn\u001b[0m \u001b[0mColumn\u001b[0m\u001b[0;34m(\u001b[0m\u001b[0mjf\u001b[0m\u001b[0;34m(\u001b[0m\u001b[0;34m*\u001b[0m\u001b[0margs\u001b[0m\u001b[0;34m)\u001b[0m\u001b[0;34m)\u001b[0m\u001b[0;34m\u001b[0m\u001b[0;34m\u001b[0m\u001b[0m\n\u001b[0m\u001b[1;32m     86\u001b[0m \u001b[0;34m\u001b[0m\u001b[0m\n\u001b[1;32m     87\u001b[0m \u001b[0;34m\u001b[0m\u001b[0m\n",
      "\u001b[0;32m~/anaconda3/lib/python3.9/site-packages/py4j/java_gateway.py\u001b[0m in \u001b[0;36m__call__\u001b[0;34m(self, *args)\u001b[0m\n\u001b[1;32m   1319\u001b[0m \u001b[0;34m\u001b[0m\u001b[0m\n\u001b[1;32m   1320\u001b[0m         \u001b[0manswer\u001b[0m \u001b[0;34m=\u001b[0m \u001b[0mself\u001b[0m\u001b[0;34m.\u001b[0m\u001b[0mgateway_client\u001b[0m\u001b[0;34m.\u001b[0m\u001b[0msend_command\u001b[0m\u001b[0;34m(\u001b[0m\u001b[0mcommand\u001b[0m\u001b[0;34m)\u001b[0m\u001b[0;34m\u001b[0m\u001b[0;34m\u001b[0m\u001b[0m\n\u001b[0;32m-> 1321\u001b[0;31m         return_value = get_return_value(\n\u001b[0m\u001b[1;32m   1322\u001b[0m             answer, self.gateway_client, self.target_id, self.name)\n\u001b[1;32m   1323\u001b[0m \u001b[0;34m\u001b[0m\u001b[0m\n",
      "\u001b[0;32m~/anaconda3/lib/python3.9/site-packages/pyspark/sql/utils.py\u001b[0m in \u001b[0;36mdeco\u001b[0;34m(*a, **kw)\u001b[0m\n\u001b[1;32m    194\u001b[0m                 \u001b[0;31m# Hide where the exception came from that shows a non-Pythonic\u001b[0m\u001b[0;34m\u001b[0m\u001b[0;34m\u001b[0m\u001b[0m\n\u001b[1;32m    195\u001b[0m                 \u001b[0;31m# JVM exception message.\u001b[0m\u001b[0;34m\u001b[0m\u001b[0;34m\u001b[0m\u001b[0m\n\u001b[0;32m--> 196\u001b[0;31m                 \u001b[0;32mraise\u001b[0m \u001b[0mconverted\u001b[0m \u001b[0;32mfrom\u001b[0m \u001b[0;32mNone\u001b[0m\u001b[0;34m\u001b[0m\u001b[0;34m\u001b[0m\u001b[0m\n\u001b[0m\u001b[1;32m    197\u001b[0m             \u001b[0;32melse\u001b[0m\u001b[0;34m:\u001b[0m\u001b[0;34m\u001b[0m\u001b[0;34m\u001b[0m\u001b[0m\n\u001b[1;32m    198\u001b[0m                 \u001b[0;32mraise\u001b[0m\u001b[0;34m\u001b[0m\u001b[0;34m\u001b[0m\u001b[0m\n",
      "\u001b[0;31mParseException\u001b[0m: \nSyntax error at or near end of input: extra input end of input(line 1, pos 27)\n\n== SQL ==\npercentile_approx('ID', 0.5\n---------------------------^^^\n"
     ]
    }
   ],
   "source": [
    "from pyspark.sql.functions import expr\n",
    "# Getting a list of all the numerical values (Ingeters, doubles or floats)\n",
    "numeric_cols = [c for c, t in df.dtypes if t in ['int', 'float', 'double']]\n",
    "\n",
    "# Getting the Median from the dataframe\n",
    "median_expr = [expr(f\"percentile_approx('{c}', 0.5\") for c in numeric_cols]\n",
    "median_value = df.select(*median_expr).first()\n",
    "\n",
    "# Filling the missing values with median\n",
    "df = df.fillna(median_value.asDict(), subset=[numeric_cols])"
   ]
  },
  {
   "cell_type": "code",
   "execution_count": null,
   "id": "54ed3c9b",
   "metadata": {},
   "outputs": [],
   "source": []
  }
 ],
 "metadata": {
  "kernelspec": {
   "display_name": "Python 3 (ipykernel)",
   "language": "python",
   "name": "python3"
  },
  "language_info": {
   "codemirror_mode": {
    "name": "ipython",
    "version": 3
   },
   "file_extension": ".py",
   "mimetype": "text/x-python",
   "name": "python",
   "nbconvert_exporter": "python",
   "pygments_lexer": "ipython3",
   "version": "3.9.13"
  }
 },
 "nbformat": 4,
 "nbformat_minor": 5
}
